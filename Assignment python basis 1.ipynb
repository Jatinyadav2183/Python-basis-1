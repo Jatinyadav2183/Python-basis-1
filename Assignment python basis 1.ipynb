{
 "cells": [
  {
   "cell_type": "markdown",
   "id": "c3ce06b2-a1a7-4489-ae2d-e0d1f9a7e5ba",
   "metadata": {},
   "source": [
    "Assignment : Python Basis\n",
    "--\n"
   ]
  },
  {
   "cell_type": "markdown",
   "id": "edf87222-528f-441e-99f0-f125e8493239",
   "metadata": {},
   "source": [
    "1. What is Python, and why is it popular?\n",
    "\n",
    "   Python is a high level programming language which is known for its simplicity, versatility, and readiablity. Python is widely used is various domain   including web development, data analytics, Aritifical intelligance, scientific computation and automation.\n",
    "\n",
    "   It is popular because:\n",
    "   1. Ease of learning and use\n",
    "   2. Versatility\n",
    "   3. Extensive libraries and framework\n",
    "   4. Growing demand in industries"
   ]
  },
  {
   "cell_type": "markdown",
   "id": "c152596a-b00d-4fd9-8402-0950d43c4349",
   "metadata": {},
   "source": [
    "2. What is an interpreter in Python?\n",
    "\n",
    "   An interpreter in python is a program that reads and executes python code directly, line by line, without requiring prior compilation into machine code. It translate the python code into a format that computer can undrestand and execute. "
   ]
  },
  {
   "cell_type": "markdown",
   "id": "375de0f7-6706-4fae-a0bd-e1b4541ce64b",
   "metadata": {},
   "source": [
    "3. What are pre-defined keywords in Python?\n",
    "\n",
    "   Pre-defined keywords in python are  reversed words that have specific meanings and purposes in the language. These keywords are part of Python's Syntax and cannont be used as identifiers.\n"
   ]
  },
  {
   "cell_type": "markdown",
   "id": "af296bea-76c4-4278-8fa9-02107643c978",
   "metadata": {},
   "source": [
    "4. Can keywords be used as variable names?\n",
    "\n",
    "   No, we cannot use keyword as variable name because they have already defined in python which have specific purpose. Attempting to use a keyword as a variable name will result in a SyntaxError."
   ]
  },
  {
   "cell_type": "markdown",
   "id": "b213f6e7-0a83-4e3e-9155-496393751fba",
   "metadata": {},
   "source": [
    "5. What is mutability in Python?\n",
    "\n",
    "   Mutability in Python refers to an object's ability to be changed or modified after it has been created.\n",
    "\n",
    "   Mutable objects allow modifications to their content. Common examples include:\n",
    "\n",
    "    1. Lists\n",
    "    2. Dictionaries\n",
    "    3. Sets\n",
    "    4. User-defined objects (depending on how they are implemented)"
   ]
  },
  {
   "cell_type": "markdown",
   "id": "85130d52-2ce6-4c27-924d-d3722e66c2e3",
   "metadata": {},
   "source": [
    "6. Why are lists mutable, but tuples are immutable?\n",
    "\n",
    "   Lists are mutable because they are desined for use cases where data needs to be updated frequently. They support operations like adding, removing, and modifiying elements. Lists allow direct manipulation of their internal strucure, such as modifying elements at specific indices or changing their size .\n",
    "\n",
    "   Tuples are immutalbe because they are inteneded for data that should remain constant throughout its lifecycle. They are often used for fixed collections of data, like coordinates or configuration value. Tuples are not allow modifications to their internal structure after creation. "
   ]
  },
  {
   "cell_type": "markdown",
   "id": "0468fddd-7950-4c14-a4ba-d9a99cb800d3",
   "metadata": {},
   "source": [
    "7. What is the difference between “==” and “is” operators in Python?\n",
    "\n",
    "   == : Equality Operator -> Checks if the values of two objects are equal.\n",
    "   Use == when you care about the values of the objects.\n",
    "\n",
    "   is : Identity operator -> Checks if two objects refer to the same memory location.\n",
    "   Use is when you care about whether two objects are actually the same object in memory. \n",
    "   "
   ]
  },
  {
   "cell_type": "markdown",
   "id": "50b977de-fef9-4df4-bbc7-92bcec34bbc1",
   "metadata": {},
   "source": [
    "8. What are logical operators in Python?\n",
    "\n",
    "   Logical operators in Python are used to combine conditional statements and evalute logical relationship between values or expressions. These operators return a boolean value (True or False) based on the logical relationship they test. Example or, and not. "
   ]
  },
  {
   "cell_type": "markdown",
   "id": "0e4f8a28-be32-47d8-ad65-6452937bb264",
   "metadata": {},
   "source": [
    "9. What is type casting in Python?\n",
    "\n",
    "    Type casting in Python is the process of converting a variable from one data type to another. It is also known as type conversion. Python provides built in funciotns to perfome type casting.\n",
    "   1. Implicit Type Casting\n",
    "   2. Explicit Type Casting\n",
    "   "
   ]
  },
  {
   "cell_type": "markdown",
   "id": "aa6896ae-5c12-4e8a-818d-d240d4d3d83a",
   "metadata": {},
   "source": [
    "10. What is the difference between implicit and explicit type casting?\n",
    "\n",
    "    Implicit Type Casting :\n",
    "\n",
    "    1. Python automatcally converts one data type to another without requiring explicit instruction frome the programmer.\n",
    "    2. It occurs when there's no risk of data loss, such as converting a smaller data type to a larger one.\n",
    "    3. Arithmetic operations where mixed types are involved( eg. integers and floats)\n",
    "       \n",
    "\n",
    "\n",
    "    Explicit Type Casting :\n",
    "\n",
    "    1. The programmer explicity converts one data type to another using Pythons built-in casting functions.\n",
    "    2. Used when an automatic conversion doesn't occur, or when the programmer needs precise control over the conversion.\n",
    "    3. Converting strings to numbers or truncating floats to integers. \n",
    "\n",
    "    \n",
    "    "
   ]
  },
  {
   "cell_type": "markdown",
   "id": "d3541bea-633b-4664-9297-cfc889ef8f36",
   "metadata": {},
   "source": [
    "11. What is the purpose of conditional statements in Python?\n",
    "\n",
    "    Conditional statements in Python are used to control the flows of the program based on certain conditions or logical expressions. They allow a program to make decisions and execute specific blocks of code depending on whether a conditions is True or False.\n",
    "\n",
    "    Types of Conditional Statements in Python.\n",
    "\n",
    "    1. If statement\n",
    "    2. else statement\n",
    "    3. Else-if statement\n",
    "    4. Nested Conditional statement\n",
    "     "
   ]
  },
  {
   "cell_type": "markdown",
   "id": "fb1f4294-d8ea-4084-9985-82de687762ef",
   "metadata": {},
   "source": [
    "12. How does the elif statement work?\n",
    "\n",
    "    The elif statement in Python is used when you want to check multiple conditions, and execute different blocks of code depending on which condition is True. It allows you to chain multiple conditions together, so only the first condition that evaluates to True will have its corresponding block of code executed. If none of the conditions are True, the else block will execute.\n",
    "    \n",
    "    "
   ]
  },
  {
   "cell_type": "markdown",
   "id": "fbf3f5e9-a412-4df6-a4bd-6b629df2feb0",
   "metadata": {},
   "source": [
    "13. What is the difference between for and while loops?\n",
    "\n",
    "    In Python, both for and while loops are used to repeat a block of code multiple times, but they are used in different scenarios. Here's a breakdown of the key differences between for and while loops:\n",
    "\n",
    "    1. For loop\n",
    "       1. Used to iterate over a sequence(such as a list, tuple, string, or range) and repeat a block of code for each item in that sequence.\n",
    "       2. It is basically used when the number of iterations is known or determined by a sequence.\n",
    "    2. While loop\n",
    "       1. Executes a block of code as long as a given condition is True. The condition is evaluated before each iteration\n",
    "       2. It is used when the number of iterations is not known in advance and the loop runs until a specific condition becomes False"
   ]
  },
  {
   "cell_type": "markdown",
   "id": "51614c3f-b52d-4795-a37a-6564d641075e",
   "metadata": {},
   "source": [
    "14. Describe a scenario where a while loop is more suitable than a for loop?\n",
    "\n",
    "    A while loop is more suitable than a for loop when the number of iterations is not known in advance and the loop needs to continue as long as a certain condition in True. One common scenario where a while loop is more appropriate is when you need to keep asking for user input until a valid response is provided."
   ]
  },
  {
   "cell_type": "markdown",
   "id": "9d34ab10-010a-4074-a02d-c1fd335fcde7",
   "metadata": {},
   "source": [
    "# Python Practical Question"
   ]
  },
  {
   "cell_type": "markdown",
   "id": "4e721392-391b-48d8-b5ae-3b11a5387369",
   "metadata": {},
   "source": [
    "1.  Write a Python program to print \"Hello, World!?\n",
    "   "
   ]
  },
  {
   "cell_type": "code",
   "execution_count": 2,
   "id": "ea352219-b9d4-443c-98eb-3d370255880e",
   "metadata": {},
   "outputs": [
    {
     "name": "stdout",
     "output_type": "stream",
     "text": [
      "Hello world\n"
     ]
    }
   ],
   "source": [
    "print(\"Hello world\")"
   ]
  },
  {
   "cell_type": "markdown",
   "id": "a3f426b1-6cd6-401e-b5f7-9af934f6809c",
   "metadata": {},
   "source": [
    "2. Write a Python program that displays your name and age? "
   ]
  },
  {
   "cell_type": "code",
   "execution_count": 16,
   "id": "164e3fa0-5857-435e-b276-450fc4127eac",
   "metadata": {},
   "outputs": [
    {
     "name": "stdout",
     "output_type": "stream",
     "text": [
      "Name :  Jatin yadav\n",
      "Age :  23\n"
     ]
    }
   ],
   "source": [
    "name = \"Jatin yadav\"\n",
    "Age = \"23\"\n",
    "print(\"Name : \" + \" \" +name + \"\\n\" +\"Age : \" + \" \" +Age)"
   ]
  },
  {
   "cell_type": "markdown",
   "id": "7c031fe3-a487-4d56-b855-a6815905bcf3",
   "metadata": {},
   "source": [
    "3. Write code to print all the pre-defined keywords in Python using the keyword library?"
   ]
  },
  {
   "cell_type": "code",
   "execution_count": 23,
   "id": "df516e69-7a4f-42aa-a843-b9e5f1cb3741",
   "metadata": {},
   "outputs": [
    {
     "name": "stdout",
     "output_type": "stream",
     "text": [
      "Predefined keywords in python : \n",
      "False\n",
      "None\n",
      "True\n",
      "and\n",
      "as\n",
      "assert\n",
      "async\n",
      "await\n",
      "break\n",
      "class\n",
      "continue\n",
      "def\n",
      "del\n",
      "elif\n",
      "else\n",
      "except\n",
      "finally\n",
      "for\n",
      "from\n",
      "global\n",
      "if\n",
      "import\n",
      "in\n",
      "is\n",
      "lambda\n",
      "nonlocal\n",
      "not\n",
      "or\n",
      "pass\n",
      "raise\n",
      "return\n",
      "try\n",
      "while\n",
      "with\n",
      "yield\n"
     ]
    }
   ],
   "source": [
    "import keyword\n",
    "print (\"Predefined keywords in python : \")\n",
    "\n",
    "for kw in keyword.kwlist:\n",
    "    print(kw)"
   ]
  },
  {
   "cell_type": "markdown",
   "id": "8485dbfa-7fa6-4655-9986-c0373559121a",
   "metadata": {},
   "source": [
    "4. Write a program that checks if a given word is a Python keyword?"
   ]
  },
  {
   "cell_type": "code",
   "execution_count": 29,
   "id": "b60475c5-0fb6-4a7b-9a0c-c0dbd701e040",
   "metadata": {},
   "outputs": [
    {
     "name": "stdin",
     "output_type": "stream",
     "text": [
      "Enter a word to check if it's a Python keyword:  lambda\n"
     ]
    },
    {
     "name": "stdout",
     "output_type": "stream",
     "text": [
      "lambda is a Python keyword \n"
     ]
    }
   ],
   "source": [
    "import keyword\n",
    "\n",
    "def is_keyword(word):\n",
    "    return keyword.iskeyword(word)\n",
    "\n",
    "word = input(\"Enter a word to check if it's a Python keyword: \")\n",
    "\n",
    "if is_keyword(word):\n",
    "    print (word + \" is a Python keyword \" )\n",
    "\n",
    "else:\n",
    "    print(word + \" is not a Python keyword \")"
   ]
  },
  {
   "cell_type": "markdown",
   "id": "5c08aaad-5e8f-4f75-906a-50999412d4e9",
   "metadata": {},
   "source": [
    "5. Create a list and tuple in Python, and demonstrate how attempting to change an element works differently for each?"
   ]
  },
  {
   "cell_type": "code",
   "execution_count": 31,
   "id": "0ee9860d-54c8-4edb-819d-9439862e862f",
   "metadata": {},
   "outputs": [
    {
     "name": "stdout",
     "output_type": "stream",
     "text": [
      "original list [1, 2, 4, 5, 'Name', 'Ajay']\n",
      "Modified list [1, 2, 4, 'Jatin', 'Name', 4.2]\n",
      "\n",
      "Original tuple :  (1, 2, 4, 5, 'Name', 'Ajay')\n",
      "Error when modifying tuple:  'tuple' object does not support item assignment\n"
     ]
    }
   ],
   "source": [
    "my_list  = [1,2,4,5,\"Name\", \"Ajay\"]\n",
    "my_tuple = (1,2,4,5,\"Name\" , \"Ajay\")\n",
    "\n",
    "# attempt to change an element in the list\n",
    "print(\"original list\" , my_list)\n",
    "\n",
    "my_list[3] = \"Jatin\"\n",
    "my_list[5] = 4.2\n",
    "\n",
    "print(\"Modified list\" , my_list)\n",
    "\n",
    "# attempt to change an element in the tuple\n",
    "\n",
    "print(\"\\nOriginal tuple : \" , my_tuple)\n",
    "\n",
    "try:\n",
    "    my_tuple[2] = \"Jaitn\"\n",
    "except TypeError as e:\n",
    "    print(\"Error when modifying tuple: \" , e)\n",
    "\n"
   ]
  },
  {
   "cell_type": "markdown",
   "id": "8d7ab03e-6b74-4870-aa6e-49eeb1ada162",
   "metadata": {},
   "source": [
    "6. Write a function to demonstrate the behavior of mutable and immutable arguments?\n"
   ]
  },
  {
   "cell_type": "code",
   "execution_count": 36,
   "id": "31dddb02-fcdb-4e7a-9079-9a1e928bbac6",
   "metadata": {},
   "outputs": [
    {
     "name": "stdout",
     "output_type": "stream",
     "text": [
      " Orignal mutuable object (list) :  [1, 2, 4, 5, 'Jaitn']\n",
      " Orignal immutable obejct (integer) :  50\n",
      " Modifying mutable object:  [1, 2, 4, 5, 'Jaitn', [100, 200, 300]]\n",
      " Modifying immutable object:  70\n",
      "\n",
      "\n",
      "Mutable object (list) :  [1, 2, 4, 5, 'Jaitn', [100, 200, 300]]\n",
      "Immutbale object (integer) :  50\n"
     ]
    }
   ],
   "source": [
    "def modify_arguments(mutable_obj , immutable_obj):\n",
    "\n",
    "    mutable_obj.append([100,200,300])\n",
    "    print(\" Modifying mutable object: \", mutable_obj)\n",
    "\n",
    "    immutable_obj +=20\n",
    "    print(\" Modifying immutable object: \", immutable_obj)\n",
    "\n",
    "my_list = [1,2,4,5,\"Jaitn\"]  # mutable \n",
    "my_number = 50               # immutable\n",
    "\n",
    "print(\" Orignal mutuable object (list) : \", my_list)\n",
    "print(\" Orignal immutable obejct (integer) : \", my_number)\n",
    "\n",
    "modify_arguments(my_list,my_number)\n",
    "\n",
    "print( \"\\n\")\n",
    "print( \"Mutable object (list) : \", my_list) \n",
    "print( \"Immutbale object (integer) : \",my_number)"
   ]
  },
  {
   "cell_type": "markdown",
   "id": "4a012f10-2453-4bc1-b31d-f7b39d2abfb5",
   "metadata": {},
   "source": [
    "7.Write a function to demonstrate the behavior of mutable and immutable arguments?"
   ]
  },
  {
   "cell_type": "code",
   "execution_count": 37,
   "id": "59e91882-7f21-4bea-9943-74f8de85c11f",
   "metadata": {},
   "outputs": [
    {
     "name": "stdout",
     "output_type": "stream",
     "text": [
      " Orignal mutuable object (list) :  [1, 2, 4, 5, 'Jaitn']\n",
      " Orignal immutable obejct (integer) :  50\n",
      " Modifying mutable object:  [1, 2, 4, 5, 'Jaitn', 100]\n",
      " Modifying immutable object:  100\n",
      "\n",
      "\n",
      "Mutable object (list) :  [1, 2, 4, 5, 'Jaitn', 100]\n",
      "Immutbale object (integer) :  50\n"
     ]
    }
   ],
   "source": [
    "def modify_arguments(mutable_obj , immutable_obj):\n",
    "\n",
    "    mutable_obj.append(100)\n",
    "    print(\" Modifying mutable object: \", mutable_obj)\n",
    "\n",
    "    immutable_obj +=50\n",
    "    print(\" Modifying immutable object: \", immutable_obj)\n",
    "\n",
    "my_list = [1,2,4,5,\"Jaitn\"]  # mutable \n",
    "my_number = 50               # immutable\n",
    "\n",
    "print(\" Orignal mutuable object (list) : \", my_list)\n",
    "print(\" Orignal immutable obejct (integer) : \", my_number)\n",
    "\n",
    "modify_arguments(my_list,my_number)\n",
    "\n",
    "print( \"\\n\")\n",
    "print( \"Mutable object (list) : \", my_list) \n",
    "print( \"Immutbale object (integer) : \",my_number)"
   ]
  },
  {
   "cell_type": "markdown",
   "id": "1acba90b-fef0-425f-b814-291f4c52276e",
   "metadata": {},
   "source": [
    "8. Write a program to demonstrate the use of logical operators0\n"
   ]
  },
  {
   "cell_type": "code",
   "execution_count": 41,
   "id": "da424bd3-4597-4364-8380-ede7508ecc6d",
   "metadata": {},
   "outputs": [
    {
     "name": "stdout",
     "output_type": "stream",
     "text": [
      " a = 100 , b = 20 , c = 50 \n",
      " a>b and b>c :  False\n",
      " a>b or b>c :  True\n",
      " not(a>b) :  False\n"
     ]
    }
   ],
   "source": [
    "# Function to demonstrate logical operators\n",
    "\n",
    "def logical_operator(a,b,c):\n",
    "    print( f\" a = {a} , b = {b} , c = {c} \")\n",
    "\n",
    "    # logical AND operator\n",
    "    print( \" a>b and b>c : \" , a>b and b>c)\n",
    "\n",
    "    # logical OR operator\n",
    "    print (\" a>b or b>c : \", a>b or b>c)\n",
    "\n",
    "    # logical NOT operator\n",
    "    print (\" not(a>b) : \" , not(a>b))\n",
    "\n",
    "a = 100\n",
    "b = 20\n",
    "c = 50\n",
    "\n",
    "logical_operator(a,b,c)"
   ]
  },
  {
   "cell_type": "markdown",
   "id": "fcfa7890-a22f-4a8b-bc4c-570ba8dce27e",
   "metadata": {},
   "source": [
    "9. Write a Python program to convert user input from string to integer, float, and boolean types ? "
   ]
  },
  {
   "cell_type": "code",
   "execution_count": 49,
   "id": "f977ca35-5aaf-411f-80a1-ca60debc5c48",
   "metadata": {},
   "outputs": [
    {
     "name": "stdin",
     "output_type": "stream",
     "text": [
      "enter a value :  3\n"
     ]
    },
    {
     "name": "stdout",
     "output_type": "stream",
     "text": [
      "Integer Value : 3 \n",
      "Float Value : 3.0 \n",
      "Boolean Value : True \n"
     ]
    }
   ],
   "source": [
    "#input form the user\n",
    "a = input(\"enter a value : \")\n",
    "\n",
    "# Convert to integer\n",
    "\n",
    "try:\n",
    "    int_value = int(a)\n",
    "    print(f\"Integer Value : {int_value} \")\n",
    "\n",
    "except ValueError:\n",
    "    print(\"Cannot convert to an integer \")\n",
    "\n",
    "# Convert to float\n",
    "\n",
    "try:\n",
    "    float_value = float(a)\n",
    "    print(f\"Float Value : {float_value} \" )\n",
    "\n",
    "except ValueError:\n",
    "    print(\"Cannot convert to an Float \")\n",
    "\n",
    "# Convert to boolean\n",
    "\n",
    "boolean_value = bool(a) if a.lower() not in [\"False\" , \"0\" , \" \"] else false\n",
    "print(f\"Boolean Value : {boolean_value} \")    \n",
    "    "
   ]
  },
  {
   "cell_type": "markdown",
   "id": "9c31377b-adeb-48d1-b27e-77f2cbda8026",
   "metadata": {},
   "source": [
    "10. Write code to demonstrate type casting with list elements?"
   ]
  },
  {
   "cell_type": "code",
   "execution_count": 50,
   "id": "34bebc00-65da-42b3-ac2d-1948a1cfb421",
   "metadata": {},
   "outputs": [
    {
     "name": "stdout",
     "output_type": "stream",
     "text": [
      " List converted to integers :  [10, 20, None, None, None, 25]\n",
      " List converted to float :  [10.0, 20.52, None, None, None, 25.0]\n",
      " List converted to booleans :  [True, True, True, True, True, True]\n"
     ]
    }
   ],
   "source": [
    "str_list = [\"10\" , \"20.52\" , \"True\" , \"False\" , \"hello\" , \"25\"]\n",
    "\n",
    "#Convert list elements to integers\n",
    "int_list = []\n",
    "for item in str_list:\n",
    "    try: \n",
    "        int_list.append(int(float(item)))\n",
    "    except ValueError:\n",
    "        int_list.append(None)\n",
    "\n",
    "print(\" List converted to integers : \" ,int_list)\n",
    "\n",
    "#Convert list elements to floats\n",
    "\n",
    "float_list = []\n",
    "for item in str_list:\n",
    "    try:\n",
    "        float_list.append(float(item))\n",
    "    except ValueError:\n",
    "        float_list.append(None)\n",
    "\n",
    "print(\" List converted to float : \", float_list)\n",
    "\n",
    "# Convert list element to Booleans\n",
    "\n",
    "bool_list = []\n",
    "for item in str_list:\n",
    "    bool_list.append(bool(item) if item.lower() not in [\"False \", \"0\", \"\"] else False)\n",
    "\n",
    "print(\" List converted to booleans : \" , bool_list)\n"
   ]
  },
  {
   "cell_type": "markdown",
   "id": "ae2b4a19-ac1b-447b-a0f0-01253c7517b3",
   "metadata": {},
   "source": [
    "11. Write a program that checks if a number is positive, negative, or zero?\n",
    "\n"
   ]
  },
  {
   "cell_type": "code",
   "execution_count": 55,
   "id": "fdcea1f7-e200-453e-a4fa-3621dc5c0acc",
   "metadata": {},
   "outputs": [
    {
     "name": "stdin",
     "output_type": "stream",
     "text": [
      "enter the value of a :  -10\n"
     ]
    },
    {
     "name": "stdout",
     "output_type": "stream",
     "text": [
      " -10 : is a Negative Number\n"
     ]
    }
   ],
   "source": [
    "def Check(a):\n",
    "\n",
    "    if (a>0):\n",
    "        print(f\" {a} : is a Positive Number\")\n",
    "    elif (a<0):\n",
    "        print(f\" {a} : is a Negative Number\")\n",
    "    else:\n",
    "        print(f\" {a} : is a zero\")\n",
    "\n",
    "a = int(input(\"enter the value of a : \"))\n",
    "\n",
    "Check(a)"
   ]
  },
  {
   "cell_type": "markdown",
   "id": "fcb600c4-9f3f-4225-9982-d8ac4aa841b0",
   "metadata": {},
   "source": [
    "12. Write a for loop to print numbers from 1 to 10?"
   ]
  },
  {
   "cell_type": "code",
   "execution_count": 57,
   "id": "5959624e-7296-4b20-80e4-9799f7ac154f",
   "metadata": {},
   "outputs": [
    {
     "name": "stdout",
     "output_type": "stream",
     "text": [
      "1\n",
      "2\n",
      "3\n",
      "4\n",
      "5\n",
      "6\n",
      "7\n",
      "8\n",
      "9\n",
      "10\n"
     ]
    }
   ],
   "source": [
    "for i in range(10):\n",
    "    print(i+1)"
   ]
  },
  {
   "cell_type": "markdown",
   "id": "69a1ffc9-65cc-40f0-8073-5d0c8c103e1f",
   "metadata": {},
   "source": [
    "13. Write a Python program to find the sum of all even numbers between 1 and 50?"
   ]
  },
  {
   "cell_type": "code",
   "execution_count": 63,
   "id": "7ab04c38-5969-4684-b8c2-85683c34fe93",
   "metadata": {},
   "outputs": [
    {
     "name": "stdout",
     "output_type": "stream",
     "text": [
      "650\n"
     ]
    }
   ],
   "source": [
    "sum = 0\n",
    "for i in range(1,51):\n",
    "    if i%2 == 0:\n",
    "        \n",
    "        sum += i\n",
    "    \n",
    "print(sum)"
   ]
  },
  {
   "cell_type": "markdown",
   "id": "3b5966fe-c273-4d86-b193-7da96225b85a",
   "metadata": {},
   "source": [
    "14. Write a program to reverse a string using a while loop?"
   ]
  },
  {
   "cell_type": "code",
   "execution_count": 66,
   "id": "9f4a2d3c-73f6-49be-afb4-429155ee5006",
   "metadata": {},
   "outputs": [
    {
     "name": "stdin",
     "output_type": "stream",
     "text": [
      "enter the string jatin\n"
     ]
    },
    {
     "name": "stdout",
     "output_type": "stream",
     "text": [
      " Reversed String :  nitaj\n"
     ]
    }
   ],
   "source": [
    "ori_string = input(\"enter the string\")\n",
    "\n",
    "rev_string = \"\"\n",
    "\n",
    "index = len(ori_string)-1\n",
    "\n",
    "while index>=0:\n",
    "    rev_string += ori_string[index]\n",
    "    index -=1\n",
    "\n",
    "print(\" Reversed String : \" , rev_string)\n"
   ]
  },
  {
   "cell_type": "markdown",
   "id": "89d06a02-0ee4-4fb8-bc3c-51cbef483b17",
   "metadata": {},
   "source": [
    "15. Write a Python program to calculate the factorial of a number provided by the user using a while loop?"
   ]
  },
  {
   "cell_type": "code",
   "execution_count": 69,
   "id": "27b57690-dece-49bd-8092-7c4e6a2baa19",
   "metadata": {},
   "outputs": [
    {
     "name": "stdin",
     "output_type": "stream",
     "text": [
      " Enter the value of a :  10\n"
     ]
    },
    {
     "name": "stdout",
     "output_type": "stream",
     "text": [
      " The factorial of 10 is : 3628800 \n"
     ]
    }
   ],
   "source": [
    "a = int(input(\" Enter the value of a : \"))\n",
    "\n",
    "factorial = 1\n",
    "i = a\n",
    "\n",
    "if a<0:\n",
    "    print(\" Factorial is not defined for negative numbers . \")\n",
    "elif a==0:\n",
    "    print(\" The factorial of 0 is 1. \")\n",
    "else:\n",
    "    while i>0:\n",
    "        factorial *=i\n",
    "        i -= 1\n",
    "    print(f\" The factorial of {a} is : {factorial} \")\n"
   ]
  },
  {
   "cell_type": "code",
   "execution_count": null,
   "id": "9c977c20-407f-451d-ae92-0d62b6fec5e0",
   "metadata": {},
   "outputs": [],
   "source": []
  }
 ],
 "metadata": {
  "kernelspec": {
   "display_name": "Python 3 (ipykernel)",
   "language": "python",
   "name": "python3"
  },
  "language_info": {
   "codemirror_mode": {
    "name": "ipython",
    "version": 3
   },
   "file_extension": ".py",
   "mimetype": "text/x-python",
   "name": "python",
   "nbconvert_exporter": "python",
   "pygments_lexer": "ipython3",
   "version": "3.12.4"
  }
 },
 "nbformat": 4,
 "nbformat_minor": 5
}
