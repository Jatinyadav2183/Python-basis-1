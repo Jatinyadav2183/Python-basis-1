{
 "cells": [
  {
   "cell_type": "markdown",
   "id": "76cd56dc-bac4-42a2-b0cd-c56af3c85e90",
   "metadata": {},
   "source": [
    " # Data Types and Structure Assignement"
   ]
  },
  {
   "cell_type": "markdown",
   "id": "6ed8e935-0bd2-455d-a9c5-fbebcc0dc8d0",
   "metadata": {},
   "source": [
    "## Assignement Question"
   ]
  },
  {
   "cell_type": "markdown",
   "id": "516cf558-346c-4b75-af9d-f69e0b7c4282",
   "metadata": {},
   "source": [
    "##  Data Types and Structure questions"
   ]
  },
  {
   "cell_type": "markdown",
   "id": "82213597-ab2b-477e-9aef-f047bc1b7237",
   "metadata": {},
   "source": [
    "1. **What are data structures and why they are important?**\n",
    "\n",
    "   Data structures are ways of organizing and storing data to enable efficient access and modification. They are important because they allow for better data management, improve algorithm efficiency and solve complex computational problems, as they optimize data processing.\n",
    "\n",
    "   Examples include arrays, linked lists, and hash tables"
   ]
  },
  {
   "cell_type": "markdown",
   "id": "32df0400-5aa9-480e-81d1-ed1f4fcacd0c",
   "metadata": {},
   "source": [
    "2. **Difference between mutable and immutable data types with examples?**\n",
    "    \n",
    "   **Mutable Data types** are those whose contents can be changed after their creation.\n",
    "   Example includes lists, dictionaries, and sets in python. For instance:"
   ]
  },
  {
   "cell_type": "code",
   "execution_count": 3,
   "id": "3721ffc3-1014-4e80-9900-8d62f18a50a6",
   "metadata": {},
   "outputs": [
    {
     "name": "stdout",
     "output_type": "stream",
     "text": [
      "[1, 2, 3]\n",
      "[19, 2, 3]\n"
     ]
    }
   ],
   "source": [
    "my_list = [1,2,3]\n",
    "print(my_list)\n",
    "my_list[0] = 19 # Modifies the first element\n",
    "print(my_list)"
   ]
  },
  {
   "cell_type": "markdown",
   "id": "2d91da8c-18c1-4745-a9b9-988cbe44d3df",
   "metadata": {},
   "source": [
    "   **Immutable data types** cannot be changed once created. \n",
    "    \n",
    "   Examples include stings, tuples, and numbers. For example: "
   ]
  },
  {
   "cell_type": "code",
   "execution_count": 5,
   "id": "5906d77e-18eb-4851-ac29-c4ec6946022b",
   "metadata": {},
   "outputs": [],
   "source": [
    "my_tuple = (1,2,3)\n",
    "# my_tuple[0] = 14  -> TypeError: 'tuple' object does not support item assignment"
   ]
  },
  {
   "cell_type": "markdown",
   "id": "26dca90d-10a0-4f93-aad2-431438340d51",
   "metadata": {},
   "source": [
    "3. **What are the main difference between lists and tuples in python?**\n",
    "\n",
    "   List and tuples are both sequence data types in python, but they have fundamental differences:\n",
    "    1. **Mutability :** Lists are mutable, so their content can be changed, while tuples are immutable.\n",
    "    2. **Perfomance :** Tuples are faster that lists because they are immutable.\n",
    "    3. **Usage :** Tupes are used for fixed collections of items, such as coordinates, while lists are preffered when data may change, like a shopping list. "
   ]
  },
  {
   "cell_type": "markdown",
   "id": "bf7ca9ef-37a9-4e48-8806-c5a9b7593601",
   "metadata": {},
   "source": [
    "4. **How do dictionares store data?**\n",
    "\n",
    "   Dictionaries in Python use a hash table internally to store data as keyvalue pairs. Each key is hashed to generate an index where its corresponding value is stored. Hashing ensures that accessing a value using it's key is highly efficient, typically O(1) in average cases."
   ]
  },
  {
   "cell_type": "markdown",
   "id": "ae2352c6-f68c-42de-b560-b2d7b8f162f4",
   "metadata": {},
   "source": [
    "5. **Why use a set instead of a list in Python?**\n",
    "\n",
    "   A set is used when unique elements are requried. Unlike lists, set automatically eliminate duplicates and provide efficient operations for unions, intersections and difference. "
   ]
  },
  {
   "cell_type": "markdown",
   "id": "b817deec-aa3c-41c2-b764-93e5dfa65c78",
   "metadata": {},
   "source": [
    "6. **What is string in Python, and how is it different from a list?**\n",
    "\n",
    "   A string is a sequence of characters stored as an immutable data type. While lists can store elements of various types and allow modification, strings only store characters and cannot be changed after creation"
   ]
  },
  {
   "cell_type": "markdown",
   "id": "04f85ac9-51f8-4cce-937a-bc9d8bcffb93",
   "metadata": {},
   "source": [
    "7. **How do tuples ensure data integrity in Python?**\n",
    "\n",
    "    Tuples are immutable, meaning their content cannot be altered after creation. This ensures the data remains consistent and prevents accidental modifications.   "
   ]
  },
  {
   "cell_type": "markdown",
   "id": "4d286a84-6e36-4c8c-b5ac-16cc01c0933d",
   "metadata": {},
   "source": [
    "8. **What is a hash table, and how does it relate to dictionaries in Python?**\n",
    "    \n",
    "   A hash table is a data structure that maps keys to values using a hash function to compute an index. Python dictionaries are implemented using hash tables, enabling efficient key-based lookups."
   ]
  },
  {
   "cell_type": "markdown",
   "id": "3a89cc3f-241d-47c6-90bb-b191ad6e57f1",
   "metadata": {},
   "source": [
    "9. **Can lists contain different data types in Python?**\n",
    "\n",
    "    Yes, Python lists are versatile and can store elements of various data types, such as integers, strings, and even other lists.\n",
    "\n"
   ]
  },
  {
   "cell_type": "markdown",
   "id": "0a403f63-5a5b-4a49-9434-dc8d7e9ac3e7",
   "metadata": {},
   "source": [
    "10. **Why are strings immutable in Python?**\n",
    "    \n",
    "    Strings are immutable to enhance performance, simplify memory management, and maintain thread safety. This design choice also allows string objects to be reused.\n",
    "\n"
   ]
  },
  {
   "cell_type": "markdown",
   "id": "098206fc-ca14-4827-a31f-9318a3abe5af",
   "metadata": {},
   "source": [
    "11. **Advantages of dictionaries over lists?**\n",
    "\n",
    "    Dictionaries provide faster data retrieval based on keys, making them suitable for scenarios where quick lookups are needed. Lists require iteration to find specific elements, which is less efficient."
   ]
  },
  {
   "cell_type": "markdown",
   "id": "c6c9d990-70ac-49ee-b886-a5da194baa48",
   "metadata": {},
   "source": [
    "12. **Scenario for using a tuple instead of a list?**\n",
    "\n",
    "    \n",
    "    Tuples are preferred for storing constant data or configurations, such as geographical coordinates ((latitude, longitude)), where the values must remain unchanged."
   ]
  },
  {
   "cell_type": "markdown",
   "id": "3876af37-20df-47ec-8a80-bcd3de79e25f",
   "metadata": {},
   "source": [
    "13. **How sets handle duplicate values?**\n",
    "\n",
    "\n",
    "    Sets inherently store only unique elements. When duplicates are added, they are automatically discarded, ensuring each value appears only once."
   ]
  },
  {
   "cell_type": "markdown",
   "id": "3a1a729e-85e9-4f3a-8e69-9bf214f53c9e",
   "metadata": {},
   "source": [
    "14. **How does the \"in\" keyword work differently for lists and dictionaries?**\n",
    "\n",
    "    In lists, the in keyword checks for the existence of a value. In dictionaries, it checks for the existence of a key, not the value."
   ]
  },
  {
   "cell_type": "markdown",
   "id": "98d25d96-4b02-45e7-8263-00b5ad1c152f",
   "metadata": {},
   "source": [
    "15. **Can you modify the elements of a tuple?**\n",
    "\n",
    "    No, tuples are immutable, and their elements cannot be altered after creation. Any attempt to modify them raises an error.\n",
    "\n"
   ]
  },
  {
   "cell_type": "markdown",
   "id": "2b5d558e-6882-4fc1-a496-fc46ca523f4a",
   "metadata": {},
   "source": [
    "16. **What is a nested dictionary, and give an example?**\n",
    "\n",
    "    A nested dictionary is a dictionary within another dictionary. For example:"
   ]
  },
  {
   "cell_type": "code",
   "execution_count": 8,
   "id": "7b25e8b6-48ca-44a1-9641-89bae16bacc6",
   "metadata": {},
   "outputs": [
    {
     "name": "stdout",
     "output_type": "stream",
     "text": [
      "{'user1': {'name': 'Alice', 'age': 25}, 'user2': {'name': 'Bob', 'age': 30}}\n"
     ]
    }
   ],
   "source": [
    "users = {\n",
    "    \"user1\": {\"name\": \"Alice\", \"age\": 25},\n",
    "    \"user2\": {\"name\": \"Bob\", \"age\": 30}\n",
    "}\n",
    "print(users)"
   ]
  },
  {
   "cell_type": "markdown",
   "id": "d24ce6f8-d7ce-4d3f-ae64-3a454b72fea2",
   "metadata": {},
   "source": [
    "17. **Time complexity of accessing elements in a dictionary?**\n",
    "\n",
    "    Accessing elements in a dictionary has an average time complexity of O(1) due to its hash table implementation."
   ]
  },
  {
   "cell_type": "markdown",
   "id": "df65b971-205d-4e9e-939b-88c553d73ecc",
   "metadata": {},
   "source": [
    "18. **When are lists preferred over dictionaries?**\n",
    "\n",
    "    Lists are preferred when data order matters, or when accessing elements by position or index is required. They are also simpler when no key-value association is needed.    "
   ]
  },
  {
   "cell_type": "markdown",
   "id": "bb357c63-eb71-4f9b-af73-a553f289c1d6",
   "metadata": {},
   "source": [
    "19. **Why are dictionaries considered unordered, and how does that affect data retrieval?**\n",
    "\n",
    "    Before Python 3.7, dictionaries were unordered, so the insertion order wasn’t preserved. Now they are insertion-ordered, but retrieval still depends on keys, not sequence.\n",
    "    "
   ]
  },
  {
   "cell_type": "markdown",
   "id": "95fb3e43-f483-4b9a-a34c-6d4d5320d38f",
   "metadata": {},
   "source": [
    "20. **Difference between list and dictionary in data retrieval?**\n",
    "\n",
    "    Lists retrieve elements by index, while dictionaries retrieve elements by keys. Lists require sequential access for searches, whereas dictionaries use key-based lookups."
   ]
  },
  {
   "cell_type": "markdown",
   "id": "806aebae-4a6a-4811-8058-8ee14a677435",
   "metadata": {},
   "source": [
    "## Practical Questions"
   ]
  },
  {
   "cell_type": "markdown",
   "id": "33c908a3-0993-463f-a6ea-4419456d16fd",
   "metadata": {},
   "source": [
    "1. **Create a string with your name and print it?**\n",
    "\n",
    "\n",
    "\n"
   ]
  },
  {
   "cell_type": "code",
   "execution_count": 9,
   "id": "ce86445d-7961-4543-8764-3eeacfff3a8b",
   "metadata": {},
   "outputs": [
    {
     "name": "stdout",
     "output_type": "stream",
     "text": [
      "John Doe\n"
     ]
    }
   ],
   "source": [
    "name = \"John Doe\"\n",
    "print(name)"
   ]
  },
  {
   "cell_type": "markdown",
   "id": "8861c716-8544-465a-a091-c98a36923aa3",
   "metadata": {},
   "source": [
    "2. **Find the length of the string \"Hello World\"**\n"
   ]
  },
  {
   "cell_type": "code",
   "execution_count": 10,
   "id": "60203bd0-9dfe-45e2-8d31-c7cfc2f26b55",
   "metadata": {},
   "outputs": [
    {
     "name": "stdout",
     "output_type": "stream",
     "text": [
      "11\n"
     ]
    }
   ],
   "source": [
    "print(len(\"Hello World\"))"
   ]
  },
  {
   "cell_type": "markdown",
   "id": "dfa95eed-fa30-4912-9953-0bd6f4477306",
   "metadata": {},
   "source": [
    "3. **SLice the first 3 charcters from the string \"python programming\"?**"
   ]
  },
  {
   "cell_type": "code",
   "execution_count": 11,
   "id": "e283e5fc-7145-4d3d-9ffe-b9c2b3e5554d",
   "metadata": {},
   "outputs": [
    {
     "name": "stdout",
     "output_type": "stream",
     "text": [
      "Pyt\n"
     ]
    }
   ],
   "source": [
    "print(\"Python Programming\"[:3])"
   ]
  },
  {
   "cell_type": "markdown",
   "id": "8537ad39-9c0a-452d-99d7-ee25cf4cf6f1",
   "metadata": {},
   "source": [
    "4. **Convert \"hello\" to uppercase?**\n",
    "   "
   ]
  },
  {
   "cell_type": "code",
   "execution_count": 12,
   "id": "aa26229b-f9ac-4115-b6b7-849d824829c9",
   "metadata": {},
   "outputs": [
    {
     "name": "stdout",
     "output_type": "stream",
     "text": [
      "HELLO\n"
     ]
    }
   ],
   "source": [
    "print(\"hello\".upper())"
   ]
  },
  {
   "cell_type": "markdown",
   "id": "f4593bf0-cd44-44a5-a6c5-9e6cec85688a",
   "metadata": {},
   "source": [
    "5. **Replace \"apple\" with \"orange\" in \"I like apple\"?**"
   ]
  },
  {
   "cell_type": "code",
   "execution_count": 13,
   "id": "ed9f24a0-c7de-4a7d-b67f-826e174a6926",
   "metadata": {},
   "outputs": [
    {
     "name": "stdout",
     "output_type": "stream",
     "text": [
      "I like orange\n"
     ]
    }
   ],
   "source": [
    "print(\"I like apple\".replace(\"apple\", \"orange\"))"
   ]
  },
  {
   "cell_type": "markdown",
   "id": "6207b945-37b2-4623-ad9c-f27d4b8ed9a2",
   "metadata": {},
   "source": [
    "6. **Create a list with numbers 1 to 5 and print it?**\n",
    "   "
   ]
  },
  {
   "cell_type": "code",
   "execution_count": 14,
   "id": "5e8f08f5-43b6-4ae1-b224-03cefb5de806",
   "metadata": {},
   "outputs": [
    {
     "name": "stdout",
     "output_type": "stream",
     "text": [
      "[1, 2, 3, 4, 5]\n"
     ]
    }
   ],
   "source": [
    "number = [1,2,3,4,5]\n",
    "print(number)"
   ]
  },
  {
   "cell_type": "markdown",
   "id": "aae97c3a-54e4-45dd-8dc9-21a479cf3146",
   "metadata": {},
   "source": [
    "7. **Append 10 to the list [1, 2, 3, 4]?**"
   ]
  },
  {
   "cell_type": "code",
   "execution_count": 15,
   "id": "608783fd-8e41-4059-9833-72599e448359",
   "metadata": {},
   "outputs": [
    {
     "name": "stdout",
     "output_type": "stream",
     "text": [
      "[1, 2, 3, 4, 10]\n"
     ]
    }
   ],
   "source": [
    "number = [1,2,3,4]\n",
    "number.append(10)\n",
    "print(number)"
   ]
  },
  {
   "cell_type": "markdown",
   "id": "7d56d7c7-5577-4a91-b7bb-8b72bc6fbbde",
   "metadata": {},
   "source": [
    "8. **Remove 3 from the list [1, 2, 3, 4, 5]?**"
   ]
  },
  {
   "cell_type": "code",
   "execution_count": 16,
   "id": "029879a7-0847-432f-ab09-4b0892b2c04e",
   "metadata": {},
   "outputs": [
    {
     "name": "stdout",
     "output_type": "stream",
     "text": [
      "[1, 2, 3, 5, 6]\n"
     ]
    }
   ],
   "source": [
    "number  = [1,2,3,4,5,6]\n",
    "number.remove(4)\n",
    "print(number)"
   ]
  },
  {
   "cell_type": "markdown",
   "id": "38b23510-7b95-4505-bd99-169fe813f08f",
   "metadata": {},
   "source": [
    "9. **Access the second element in the list ['a', 'b', 'c', 'd']**"
   ]
  },
  {
   "cell_type": "code",
   "execution_count": 17,
   "id": "ae948dbf-8d0d-4a60-8f01-13b00fd2af02",
   "metadata": {},
   "outputs": [
    {
     "name": "stdout",
     "output_type": "stream",
     "text": [
      "b\n"
     ]
    }
   ],
   "source": [
    "List = ['a','b','c','d','e']\n",
    "print(List[1])"
   ]
  },
  {
   "cell_type": "markdown",
   "id": "ac0e9c12-a956-4ba3-bee1-0bc85be85338",
   "metadata": {},
   "source": [
    "10. **Reverse the list [10, 20, 30, 40, 50]?**"
   ]
  },
  {
   "cell_type": "code",
   "execution_count": 18,
   "id": "e4624ab6-78a1-48fb-9079-c1260d7de5d5",
   "metadata": {},
   "outputs": [
    {
     "name": "stdout",
     "output_type": "stream",
     "text": [
      "[50, 40, 30, 20, 10]\n"
     ]
    }
   ],
   "source": [
    "numbers = [10,20,30,40,50]\n",
    "print(numbers[::-1])"
   ]
  },
  {
   "cell_type": "markdown",
   "id": "a473d870-1281-4a6f-916c-e000426ff2d7",
   "metadata": {},
   "source": [
    "11. **Create a tuple with elements 10, 20, 30 and print it?**"
   ]
  },
  {
   "cell_type": "code",
   "execution_count": 19,
   "id": "99ca20f1-bda1-48c2-8bd6-5fef2beb058c",
   "metadata": {},
   "outputs": [
    {
     "name": "stdout",
     "output_type": "stream",
     "text": [
      "(10, 20, 30)\n"
     ]
    }
   ],
   "source": [
    "tup = (10,20,30)\n",
    "print(tup)"
   ]
  },
  {
   "cell_type": "markdown",
   "id": "efcd3750-9a3a-4f93-8191-a0000c0bdcd0",
   "metadata": {},
   "source": [
    "12. **Access the first element of the tuple ('apple', 'banana', 'cherry')?**"
   ]
  },
  {
   "cell_type": "code",
   "execution_count": 20,
   "id": "1f2b5062-6c27-4972-b6c8-af079521fb11",
   "metadata": {},
   "outputs": [
    {
     "name": "stdout",
     "output_type": "stream",
     "text": [
      "apple\n"
     ]
    }
   ],
   "source": [
    "fruits = ('apple', 'banana', 'cherry')\n",
    "print(fruits[0])"
   ]
  },
  {
   "cell_type": "markdown",
   "id": "a31217ec-2ead-4e52-9423-e52ad58a5a0f",
   "metadata": {},
   "source": [
    "13. **Count how many times 2 appears in (1, 2, 3, 2, 4, 2)?**"
   ]
  },
  {
   "cell_type": "code",
   "execution_count": 21,
   "id": "7c1b1ddb-560b-4c43-8bcf-b7ec202e75eb",
   "metadata": {},
   "outputs": [
    {
     "name": "stdout",
     "output_type": "stream",
     "text": [
      "3\n"
     ]
    }
   ],
   "source": [
    "tup = (1,2,3,2,4,2)\n",
    "print(tup.count(2))"
   ]
  },
  {
   "cell_type": "markdown",
   "id": "6f3476eb-5f2c-41c6-ab13-e063697bdf21",
   "metadata": {},
   "source": [
    "14. **Find the index of \"cat\" in ('dog', 'cat', 'rabbit')?**"
   ]
  },
  {
   "cell_type": "code",
   "execution_count": 22,
   "id": "848b2602-e5e8-4531-80b7-4a6245d5befa",
   "metadata": {},
   "outputs": [
    {
     "name": "stdout",
     "output_type": "stream",
     "text": [
      "1\n"
     ]
    }
   ],
   "source": [
    "animals = ('dog', 'cat', 'rabbit')\n",
    "print(animals.index(\"cat\"))"
   ]
  },
  {
   "cell_type": "markdown",
   "id": "df7833e3-1838-4f7c-94ba-7ed602262e9a",
   "metadata": {},
   "source": [
    "15. **Check if \"banana\" is in ('apple', 'orange', 'banana')?**"
   ]
  },
  {
   "cell_type": "code",
   "execution_count": 23,
   "id": "28aa8d62-4a2c-4ebe-86fe-37be85ba0a99",
   "metadata": {},
   "outputs": [
    {
     "name": "stdout",
     "output_type": "stream",
     "text": [
      "True\n"
     ]
    }
   ],
   "source": [
    "fruits = ('apple', 'orange', 'banana')\n",
    "print('banana' in fruits)"
   ]
  },
  {
   "cell_type": "markdown",
   "id": "d4c8fbe4-cc9f-4b03-a84d-8c6a22339ac0",
   "metadata": {},
   "source": [
    "16. **Create a set with elements 1,2,3,4,5 and print it?**"
   ]
  },
  {
   "cell_type": "code",
   "execution_count": 24,
   "id": "627f6539-bc5d-46af-acb6-f0a2cdfb5ebf",
   "metadata": {},
   "outputs": [
    {
     "name": "stdout",
     "output_type": "stream",
     "text": [
      "{1, 2, 3, 4, 5}\n"
     ]
    }
   ],
   "source": [
    "my_set = {1,2,3,4,5}\n",
    "print(my_set)"
   ]
  },
  {
   "cell_type": "markdown",
   "id": "575059e6-0a25-4000-be1a-7ddf0c590716",
   "metadata": {},
   "source": [
    "17. **Add 6 to the set{1,2,3,4}?**"
   ]
  },
  {
   "cell_type": "code",
   "execution_count": 25,
   "id": "d606c982-2c97-42a3-aa4f-0470d4767c48",
   "metadata": {},
   "outputs": [
    {
     "name": "stdout",
     "output_type": "stream",
     "text": [
      "{1, 2, 3, 4, 6}\n"
     ]
    }
   ],
   "source": [
    "my_set ={1,2,3,4}\n",
    "my_set.add(6)\n",
    "print(my_set)"
   ]
  }
 ],
 "metadata": {
  "kernelspec": {
   "display_name": "Python 3 (ipykernel)",
   "language": "python",
   "name": "python3"
  },
  "language_info": {
   "codemirror_mode": {
    "name": "ipython",
    "version": 3
   },
   "file_extension": ".py",
   "mimetype": "text/x-python",
   "name": "python",
   "nbconvert_exporter": "python",
   "pygments_lexer": "ipython3",
   "version": "3.13.1"
  }
 },
 "nbformat": 4,
 "nbformat_minor": 5
}
